{
 "cells": [
  {
   "cell_type": "code",
   "execution_count": 1,
   "metadata": {
    "ExecuteTime": {
     "end_time": "2020-03-05T10:22:18.075207Z",
     "start_time": "2020-03-05T10:22:17.877653Z"
    }
   },
   "outputs": [],
   "source": [
    "from pyspark.sql import SparkSession"
   ]
  },
  {
   "cell_type": "code",
   "execution_count": 2,
   "metadata": {
    "ExecuteTime": {
     "end_time": "2020-03-05T10:22:21.501877Z",
     "start_time": "2020-03-05T10:22:18.077027Z"
    }
   },
   "outputs": [],
   "source": [
    "ss = SparkSession.builder.appName(\"kickstarter\").getOrCreate()"
   ]
  },
  {
   "cell_type": "code",
   "execution_count": 3,
   "metadata": {
    "ExecuteTime": {
     "end_time": "2020-03-05T10:22:24.156291Z",
     "start_time": "2020-03-05T10:22:21.504899Z"
    }
   },
   "outputs": [],
   "source": [
    "df = ss.read.parquet(\"../data/kickstarter.parquet\")"
   ]
  },
  {
   "cell_type": "markdown",
   "metadata": {},
   "source": [
    "# Getting useful columns"
   ]
  },
  {
   "cell_type": "code",
   "execution_count": 4,
   "metadata": {
    "ExecuteTime": {
     "end_time": "2020-03-05T10:22:24.218572Z",
     "start_time": "2020-03-05T10:22:24.159187Z"
    }
   },
   "outputs": [
    {
     "data": {
      "text/plain": [
       "[(0, 'project_id'),\n",
       " (1, 'name'),\n",
       " (2, 'desc'),\n",
       " (3, 'goal'),\n",
       " (4, 'keywords'),\n",
       " (5, 'final_status'),\n",
       " (6, 'country_clean'),\n",
       " (7, 'currency_clean'),\n",
       " (8, 'deadline_clean'),\n",
       " (9, 'created_at_clean'),\n",
       " (10, 'launched_at_clean'),\n",
       " (11, 'days_campaign'),\n",
       " (12, 'hours_prepa')]"
      ]
     },
     "execution_count": 4,
     "metadata": {},
     "output_type": "execute_result"
    }
   ],
   "source": [
    "columns = df.columns\n",
    "list(enumerate(df.columns))"
   ]
  },
  {
   "cell_type": "code",
   "execution_count": 5,
   "metadata": {
    "ExecuteTime": {
     "end_time": "2020-03-05T10:22:24.252786Z",
     "start_time": "2020-03-05T10:22:24.221438Z"
    }
   },
   "outputs": [],
   "source": [
    "clf_columns = [columns[6],columns[7],columns[8],columns[9],columns[10],columns[11],columns[12]]"
   ]
  },
  {
   "cell_type": "code",
   "execution_count": 6,
   "metadata": {
    "ExecuteTime": {
     "end_time": "2020-03-05T10:22:26.083742Z",
     "start_time": "2020-03-05T10:22:24.255198Z"
    }
   },
   "outputs": [
    {
     "name": "stdout",
     "output_type": "stream",
     "text": [
      "+-------------+--------------+--------------+----------------+-----------------+-------------+-----------+\n",
      "|country_clean|currency_clean|deadline_clean|created_at_clean|launched_at_clean|days_campaign|hours_prepa|\n",
      "+-------------+--------------+--------------+----------------+-----------------+-------------+-----------+\n",
      "|           US|           USD|    2010-07-31|      2010-06-14|       2010-06-16|           45|      29.69|\n",
      "|           US|           USD|    2011-09-07|      2011-08-06|       2011-08-08|           30|      62.02|\n",
      "|           US|           USD|    2011-09-29|      2011-08-24|       2011-08-30|           30|      143.8|\n",
      "|           US|           USD|    2011-05-01|      2011-03-22|       2011-03-22|           40|       1.99|\n",
      "|           US|           USD|    2011-05-10|      2011-02-02|       2011-02-08|           91|     134.81|\n",
      "+-------------+--------------+--------------+----------------+-----------------+-------------+-----------+\n",
      "only showing top 5 rows\n",
      "\n"
     ]
    }
   ],
   "source": [
    "df.select(clf_columns).show(5)"
   ]
  },
  {
   "cell_type": "markdown",
   "metadata": {
    "ExecuteTime": {
     "end_time": "2020-03-05T09:34:06.235192Z",
     "start_time": "2020-03-05T09:34:06.223188Z"
    }
   },
   "source": [
    "# Fearuee engineering"
   ]
  },
  {
   "cell_type": "code",
   "execution_count": 7,
   "metadata": {
    "ExecuteTime": {
     "end_time": "2020-03-05T10:22:26.203444Z",
     "start_time": "2020-03-05T10:22:26.087631Z"
    }
   },
   "outputs": [],
   "source": [
    "from pyspark.ml.feature import StringIndexer, OneHotEncoder, VectorAssembler"
   ]
  },
  {
   "cell_type": "code",
   "execution_count": 8,
   "metadata": {
    "ExecuteTime": {
     "end_time": "2020-03-05T10:22:28.154423Z",
     "start_time": "2020-03-05T10:22:26.205261Z"
    }
   },
   "outputs": [],
   "source": [
    "indexer_country = StringIndexer(inputCol=columns[6], outputCol=columns[6]+\"_index\").fit(df)\n",
    "indexer_currency = StringIndexer(inputCol=columns[7], outputCol=columns[7]+\"_index\").fit(df)"
   ]
  },
  {
   "cell_type": "code",
   "execution_count": 9,
   "metadata": {
    "ExecuteTime": {
     "end_time": "2020-03-05T10:22:28.853251Z",
     "start_time": "2020-03-05T10:22:28.157465Z"
    }
   },
   "outputs": [],
   "source": [
    "df = indexer_country.transform(df)\n",
    "df = indexer_currency.transform(df)"
   ]
  },
  {
   "cell_type": "code",
   "execution_count": 10,
   "metadata": {
    "ExecuteTime": {
     "end_time": "2020-03-05T10:22:28.922793Z",
     "start_time": "2020-03-05T10:22:28.855749Z"
    }
   },
   "outputs": [],
   "source": [
    "encoder_country = OneHotEncoder(inputCol=columns[6]+\"_index\", outputCol=columns[6]+\"_vector\")\n",
    "encoder_currency = OneHotEncoder(inputCol=columns[7]+\"_index\", outputCol=columns[7]+\"_vector\")"
   ]
  },
  {
   "cell_type": "code",
   "execution_count": 11,
   "metadata": {
    "ExecuteTime": {
     "end_time": "2020-03-05T10:22:29.185892Z",
     "start_time": "2020-03-05T10:22:28.925186Z"
    }
   },
   "outputs": [],
   "source": [
    "df = encoder_country.transform(df)\n",
    "df = encoder_currency.transform(df)"
   ]
  },
  {
   "cell_type": "code",
   "execution_count": 12,
   "metadata": {
    "ExecuteTime": {
     "end_time": "2020-03-05T10:22:29.756377Z",
     "start_time": "2020-03-05T10:22:29.189644Z"
    }
   },
   "outputs": [
    {
     "name": "stdout",
     "output_type": "stream",
     "text": [
      "+--------------------+---------------------+-------------+-----------+\n",
      "|country_clean_vector|currency_clean_vector|days_campaign|hours_prepa|\n",
      "+--------------------+---------------------+-------------+-----------+\n",
      "|      (10,[0],[1.0])|        (8,[0],[1.0])|           45|      29.69|\n",
      "|      (10,[0],[1.0])|        (8,[0],[1.0])|           30|      62.02|\n",
      "|      (10,[0],[1.0])|        (8,[0],[1.0])|           30|      143.8|\n",
      "|      (10,[0],[1.0])|        (8,[0],[1.0])|           40|       1.99|\n",
      "|      (10,[0],[1.0])|        (8,[0],[1.0])|           91|     134.81|\n",
      "+--------------------+---------------------+-------------+-----------+\n",
      "only showing top 5 rows\n",
      "\n"
     ]
    }
   ],
   "source": [
    "f_columns = [columns[6]+\"_vector\", columns[7]+\"_vector\", columns[11], columns[12]]\n",
    "df.select(f_columns).show(5)"
   ]
  },
  {
   "cell_type": "markdown",
   "metadata": {
    "ExecuteTime": {
     "end_time": "2020-03-05T10:06:58.090328Z",
     "start_time": "2020-03-05T10:06:58.074709Z"
    }
   },
   "source": [
    "# Assembling the vectors"
   ]
  },
  {
   "cell_type": "code",
   "execution_count": 13,
   "metadata": {
    "ExecuteTime": {
     "end_time": "2020-03-05T10:22:29.982849Z",
     "start_time": "2020-03-05T10:22:29.759293Z"
    }
   },
   "outputs": [],
   "source": [
    "df_assembler = VectorAssembler(inputCols=f_columns, outputCol=\"features\")\n",
    "df = df_assembler.transform(df)"
   ]
  },
  {
   "cell_type": "code",
   "execution_count": 14,
   "metadata": {
    "ExecuteTime": {
     "end_time": "2020-03-05T10:22:30.508767Z",
     "start_time": "2020-03-05T10:22:29.987793Z"
    }
   },
   "outputs": [
    {
     "name": "stdout",
     "output_type": "stream",
     "text": [
      "+---------------------------------------+------------+\n",
      "|features                               |final_status|\n",
      "+---------------------------------------+------------+\n",
      "|(20,[0,10,18,19],[1.0,1.0,45.0,29.69]) |0           |\n",
      "|(20,[0,10,18,19],[1.0,1.0,30.0,62.02]) |1           |\n",
      "|(20,[0,10,18,19],[1.0,1.0,30.0,143.8]) |0           |\n",
      "|(20,[0,10,18,19],[1.0,1.0,40.0,1.99])  |0           |\n",
      "|(20,[0,10,18,19],[1.0,1.0,91.0,134.81])|0           |\n",
      "+---------------------------------------+------------+\n",
      "only showing top 5 rows\n",
      "\n"
     ]
    }
   ],
   "source": [
    "df.select(\"features\", columns[5]).show(5, False)"
   ]
  },
  {
   "cell_type": "markdown",
   "metadata": {},
   "source": [
    "# Modelling"
   ]
  },
  {
   "cell_type": "code",
   "execution_count": 15,
   "metadata": {
    "ExecuteTime": {
     "end_time": "2020-03-05T10:24:13.205810Z",
     "start_time": "2020-03-05T10:24:13.185434Z"
    }
   },
   "outputs": [],
   "source": [
    "df_model = df.select(\"features\", columns[5])"
   ]
  },
  {
   "cell_type": "code",
   "execution_count": 17,
   "metadata": {
    "ExecuteTime": {
     "end_time": "2020-03-05T10:25:14.403929Z",
     "start_time": "2020-03-05T10:25:14.333280Z"
    }
   },
   "outputs": [],
   "source": [
    "x_train, x_test = df_model.randomSplit([0.7, 0.3])"
   ]
  },
  {
   "cell_type": "code",
   "execution_count": 19,
   "metadata": {
    "ExecuteTime": {
     "end_time": "2020-03-05T10:25:44.512954Z",
     "start_time": "2020-03-05T10:25:42.314548Z"
    }
   },
   "outputs": [
    {
     "data": {
      "text/plain": [
       "(75424, 32191)"
      ]
     },
     "execution_count": 19,
     "metadata": {},
     "output_type": "execute_result"
    }
   ],
   "source": [
    "x_train.count(), x_test.count()"
   ]
  },
  {
   "cell_type": "code",
   "execution_count": 20,
   "metadata": {
    "ExecuteTime": {
     "end_time": "2020-03-05T10:26:43.830442Z",
     "start_time": "2020-03-05T10:26:41.833948Z"
    }
   },
   "outputs": [
    {
     "name": "stdout",
     "output_type": "stream",
     "text": [
      "+------------+-----+\n",
      "|final_status|count|\n",
      "+------------+-----+\n",
      "|           1|24129|\n",
      "|           0|51295|\n",
      "+------------+-----+\n",
      "\n"
     ]
    }
   ],
   "source": [
    "x_train.groupBy(columns[5]).count().show()"
   ]
  },
  {
   "cell_type": "code",
   "execution_count": 21,
   "metadata": {
    "ExecuteTime": {
     "end_time": "2020-03-05T10:27:15.867384Z",
     "start_time": "2020-03-05T10:27:15.851938Z"
    }
   },
   "outputs": [],
   "source": [
    "from pyspark.ml.classification import LogisticRegression"
   ]
  },
  {
   "cell_type": "code",
   "execution_count": 23,
   "metadata": {
    "ExecuteTime": {
     "end_time": "2020-03-05T10:28:14.999205Z",
     "start_time": "2020-03-05T10:28:08.547943Z"
    }
   },
   "outputs": [],
   "source": [
    "log_reg = LogisticRegression(labelCol=columns[5]).fit(x_train)"
   ]
  },
  {
   "cell_type": "code",
   "execution_count": 29,
   "metadata": {
    "ExecuteTime": {
     "end_time": "2020-03-05T10:30:25.084218Z",
     "start_time": "2020-03-05T10:30:24.780291Z"
    }
   },
   "outputs": [],
   "source": [
    "results = log_reg.evaluate(x_test).predictions"
   ]
  },
  {
   "cell_type": "code",
   "execution_count": 31,
   "metadata": {
    "ExecuteTime": {
     "end_time": "2020-03-05T10:30:56.599427Z",
     "start_time": "2020-03-05T10:30:56.585607Z"
    }
   },
   "outputs": [
    {
     "name": "stdout",
     "output_type": "stream",
     "text": [
      "root\n",
      " |-- features: vector (nullable = true)\n",
      " |-- final_status: integer (nullable = true)\n",
      " |-- rawPrediction: vector (nullable = true)\n",
      " |-- probability: vector (nullable = true)\n",
      " |-- prediction: double (nullable = false)\n",
      "\n"
     ]
    }
   ],
   "source": [
    "results.printSchema()"
   ]
  },
  {
   "cell_type": "code",
   "execution_count": 37,
   "metadata": {
    "ExecuteTime": {
     "end_time": "2020-03-05T10:32:48.987460Z",
     "start_time": "2020-03-05T10:32:48.134469Z"
    }
   },
   "outputs": [],
   "source": [
    "results_df = results.select(columns[5], \"prediction\").toPandas()"
   ]
  },
  {
   "cell_type": "code",
   "execution_count": 40,
   "metadata": {
    "ExecuteTime": {
     "end_time": "2020-03-05T10:33:49.723740Z",
     "start_time": "2020-03-05T10:33:49.705187Z"
    }
   },
   "outputs": [
    {
     "data": {
      "text/plain": [
       "Index(['final_status', 'prediction'], dtype='object')"
      ]
     },
     "execution_count": 40,
     "metadata": {},
     "output_type": "execute_result"
    }
   ],
   "source": [
    "results_df.columns"
   ]
  },
  {
   "cell_type": "markdown",
   "metadata": {
    "ExecuteTime": {
     "end_time": "2020-03-05T10:32:52.613791Z",
     "start_time": "2020-03-05T10:32:52.552403Z"
    }
   },
   "source": [
    "Evaluation"
   ]
  },
  {
   "cell_type": "code",
   "execution_count": 39,
   "metadata": {
    "ExecuteTime": {
     "end_time": "2020-03-05T10:33:24.788613Z",
     "start_time": "2020-03-05T10:33:24.780059Z"
    }
   },
   "outputs": [],
   "source": [
    "from sklearn.metrics import accuracy_score"
   ]
  },
  {
   "cell_type": "code",
   "execution_count": 41,
   "metadata": {
    "ExecuteTime": {
     "end_time": "2020-03-05T10:34:02.417735Z",
     "start_time": "2020-03-05T10:34:02.347690Z"
    }
   },
   "outputs": [
    {
     "data": {
      "text/plain": [
       "0.6810288589978566"
      ]
     },
     "execution_count": 41,
     "metadata": {},
     "output_type": "execute_result"
    }
   ],
   "source": [
    "accuracy_score(results_df.final_status, results_df.prediction)"
   ]
  }
 ],
 "metadata": {
  "kernelspec": {
   "display_name": "Python 3",
   "language": "python",
   "name": "python3"
  },
  "language_info": {
   "codemirror_mode": {
    "name": "ipython",
    "version": 3
   },
   "file_extension": ".py",
   "mimetype": "text/x-python",
   "name": "python",
   "nbconvert_exporter": "python",
   "pygments_lexer": "ipython3",
   "version": "3.6.5"
  }
 },
 "nbformat": 4,
 "nbformat_minor": 2
}
