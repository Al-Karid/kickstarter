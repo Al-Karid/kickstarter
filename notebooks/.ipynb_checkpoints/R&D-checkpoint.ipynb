{
 "cells": [
  {
   "cell_type": "code",
   "execution_count": 1,
   "metadata": {
    "ExecuteTime": {
     "end_time": "2020-03-05T10:02:22.772552Z",
     "start_time": "2020-03-05T10:02:22.583577Z"
    }
   },
   "outputs": [],
   "source": [
    "from pyspark.sql import SparkSession"
   ]
  },
  {
   "cell_type": "code",
   "execution_count": 2,
   "metadata": {
    "ExecuteTime": {
     "end_time": "2020-03-05T10:02:25.991535Z",
     "start_time": "2020-03-05T10:02:22.774235Z"
    }
   },
   "outputs": [],
   "source": [
    "ss = SparkSession.builder.appName(\"kickstarter\").getOrCreate()"
   ]
  },
  {
   "cell_type": "code",
   "execution_count": 3,
   "metadata": {
    "ExecuteTime": {
     "end_time": "2020-03-05T10:02:28.493188Z",
     "start_time": "2020-03-05T10:02:25.993925Z"
    }
   },
   "outputs": [],
   "source": [
    "df = ss.read.parquet(\"../data/kickstarter.parquet\")"
   ]
  },
  {
   "cell_type": "markdown",
   "metadata": {},
   "source": [
    "Getting useful columns"
   ]
  },
  {
   "cell_type": "code",
   "execution_count": 4,
   "metadata": {
    "ExecuteTime": {
     "end_time": "2020-03-05T10:02:28.570634Z",
     "start_time": "2020-03-05T10:02:28.496769Z"
    }
   },
   "outputs": [
    {
     "data": {
      "text/plain": [
       "[(0, 'project_id'),\n",
       " (1, 'name'),\n",
       " (2, 'desc'),\n",
       " (3, 'goal'),\n",
       " (4, 'keywords'),\n",
       " (5, 'final_status'),\n",
       " (6, 'country_clean'),\n",
       " (7, 'currency_clean'),\n",
       " (8, 'deadline_clean'),\n",
       " (9, 'created_at_clean'),\n",
       " (10, 'launched_at_clean'),\n",
       " (11, 'days_campaign'),\n",
       " (12, 'hours_prepa')]"
      ]
     },
     "execution_count": 4,
     "metadata": {},
     "output_type": "execute_result"
    }
   ],
   "source": [
    "columns = df.columns\n",
    "list(enumerate(df.columns))"
   ]
  },
  {
   "cell_type": "code",
   "execution_count": 5,
   "metadata": {
    "ExecuteTime": {
     "end_time": "2020-03-05T10:02:28.618076Z",
     "start_time": "2020-03-05T10:02:28.572510Z"
    }
   },
   "outputs": [],
   "source": [
    "clf_columns = [columns[6],columns[7],columns[8],columns[9],columns[10],columns[11],columns[12]]"
   ]
  },
  {
   "cell_type": "code",
   "execution_count": 6,
   "metadata": {
    "ExecuteTime": {
     "end_time": "2020-03-05T10:02:30.187048Z",
     "start_time": "2020-03-05T10:02:28.620114Z"
    }
   },
   "outputs": [
    {
     "name": "stdout",
     "output_type": "stream",
     "text": [
      "+-------------+--------------+--------------+----------------+-----------------+-------------+-----------+\n",
      "|country_clean|currency_clean|deadline_clean|created_at_clean|launched_at_clean|days_campaign|hours_prepa|\n",
      "+-------------+--------------+--------------+----------------+-----------------+-------------+-----------+\n",
      "|           US|           USD|    2010-07-31|      2010-06-14|       2010-06-16|           45|      29.69|\n",
      "|           US|           USD|    2011-09-07|      2011-08-06|       2011-08-08|           30|      62.02|\n",
      "|           US|           USD|    2011-09-29|      2011-08-24|       2011-08-30|           30|      143.8|\n",
      "|           US|           USD|    2011-05-01|      2011-03-22|       2011-03-22|           40|       1.99|\n",
      "|           US|           USD|    2011-05-10|      2011-02-02|       2011-02-08|           91|     134.81|\n",
      "+-------------+--------------+--------------+----------------+-----------------+-------------+-----------+\n",
      "only showing top 5 rows\n",
      "\n"
     ]
    }
   ],
   "source": [
    "df.select(clf_columns).show(5)"
   ]
  },
  {
   "cell_type": "markdown",
   "metadata": {
    "ExecuteTime": {
     "end_time": "2020-03-05T09:34:06.235192Z",
     "start_time": "2020-03-05T09:34:06.223188Z"
    }
   },
   "source": [
    "Fearuee engineering"
   ]
  },
  {
   "cell_type": "code",
   "execution_count": 7,
   "metadata": {
    "ExecuteTime": {
     "end_time": "2020-03-05T10:02:30.304344Z",
     "start_time": "2020-03-05T10:02:30.189582Z"
    }
   },
   "outputs": [],
   "source": [
    "from pyspark.ml.feature import StringIndexer, OneHotEncoder, VectorAssembler"
   ]
  },
  {
   "cell_type": "code",
   "execution_count": 8,
   "metadata": {
    "ExecuteTime": {
     "end_time": "2020-03-05T10:02:32.118583Z",
     "start_time": "2020-03-05T10:02:30.306584Z"
    }
   },
   "outputs": [],
   "source": [
    "indexer_country = StringIndexer(inputCol=columns[6], outputCol=columns[6]+\"_index\").fit(df)\n",
    "indexer_currency = StringIndexer(inputCol=columns[7], outputCol=columns[7]+\"_index\").fit(df)"
   ]
  },
  {
   "cell_type": "code",
   "execution_count": 9,
   "metadata": {
    "ExecuteTime": {
     "end_time": "2020-03-05T10:02:32.912249Z",
     "start_time": "2020-03-05T10:02:32.131652Z"
    }
   },
   "outputs": [],
   "source": [
    "df = indexer_country.transform(df)\n",
    "df = indexer_currency.transform(df)"
   ]
  },
  {
   "cell_type": "code",
   "execution_count": 10,
   "metadata": {
    "ExecuteTime": {
     "end_time": "2020-03-05T10:02:32.999124Z",
     "start_time": "2020-03-05T10:02:32.915630Z"
    }
   },
   "outputs": [],
   "source": [
    "encoder_country = OneHotEncoder(inputCol=columns[6]+\"_index\", outputCol=columns[6]+\"_vector\")\n",
    "encoder_currency = OneHotEncoder(inputCol=columns[7]+\"_index\", outputCol=columns[7]+\"_vector\")"
   ]
  },
  {
   "cell_type": "code",
   "execution_count": 11,
   "metadata": {
    "ExecuteTime": {
     "end_time": "2020-03-05T10:02:33.219464Z",
     "start_time": "2020-03-05T10:02:33.006492Z"
    }
   },
   "outputs": [],
   "source": [
    "df = encoder_country.transform(df)\n",
    "df = encoder_currency.transform(df)"
   ]
  },
  {
   "cell_type": "code",
   "execution_count": 18,
   "metadata": {
    "ExecuteTime": {
     "end_time": "2020-03-05T10:06:07.075695Z",
     "start_time": "2020-03-05T10:06:06.813205Z"
    }
   },
   "outputs": [
    {
     "name": "stdout",
     "output_type": "stream",
     "text": [
      "+--------------------+---------------------+-------------+-----------+\n",
      "|country_clean_vector|currency_clean_vector|days_campaign|hours_prepa|\n",
      "+--------------------+---------------------+-------------+-----------+\n",
      "|      (10,[0],[1.0])|        (8,[0],[1.0])|           45|      29.69|\n",
      "|      (10,[0],[1.0])|        (8,[0],[1.0])|           30|      62.02|\n",
      "|      (10,[0],[1.0])|        (8,[0],[1.0])|           30|      143.8|\n",
      "|      (10,[0],[1.0])|        (8,[0],[1.0])|           40|       1.99|\n",
      "|      (10,[0],[1.0])|        (8,[0],[1.0])|           91|     134.81|\n",
      "+--------------------+---------------------+-------------+-----------+\n",
      "only showing top 5 rows\n",
      "\n"
     ]
    }
   ],
   "source": [
    "f_columns = [columns[6]+\"_vector\", columns[7]+\"_vector\", columns[11], columns[12]]\n",
    "df.select(f_columns).show(5)"
   ]
  },
  {
   "cell_type": "markdown",
   "metadata": {
    "ExecuteTime": {
     "end_time": "2020-03-05T10:06:58.090328Z",
     "start_time": "2020-03-05T10:06:58.074709Z"
    }
   },
   "source": [
    "Assembling the vectors"
   ]
  },
  {
   "cell_type": "code",
   "execution_count": 21,
   "metadata": {
    "ExecuteTime": {
     "end_time": "2020-03-05T10:08:18.243035Z",
     "start_time": "2020-03-05T10:08:17.864006Z"
    }
   },
   "outputs": [],
   "source": [
    "df_assembler = VectorAssembler(inputCols=f_columns, outputCol=\"features\")\n",
    "df = df_assembler.transform(df)"
   ]
  },
  {
   "cell_type": "code",
   "execution_count": 25,
   "metadata": {
    "ExecuteTime": {
     "end_time": "2020-03-05T10:09:28.762486Z",
     "start_time": "2020-03-05T10:09:28.462211Z"
    }
   },
   "outputs": [
    {
     "name": "stdout",
     "output_type": "stream",
     "text": [
      "+---------------------------------------+------------+\n",
      "|features                               |final_status|\n",
      "+---------------------------------------+------------+\n",
      "|(20,[0,10,18,19],[1.0,1.0,45.0,29.69]) |0           |\n",
      "|(20,[0,10,18,19],[1.0,1.0,30.0,62.02]) |1           |\n",
      "|(20,[0,10,18,19],[1.0,1.0,30.0,143.8]) |0           |\n",
      "|(20,[0,10,18,19],[1.0,1.0,40.0,1.99])  |0           |\n",
      "|(20,[0,10,18,19],[1.0,1.0,91.0,134.81])|0           |\n",
      "+---------------------------------------+------------+\n",
      "only showing top 5 rows\n",
      "\n"
     ]
    }
   ],
   "source": [
    "df.select(\"features\", columns[5]).show(5, False)"
   ]
  }
 ],
 "metadata": {
  "kernelspec": {
   "display_name": "Python 3",
   "language": "python",
   "name": "python3"
  },
  "language_info": {
   "codemirror_mode": {
    "name": "ipython",
    "version": 3
   },
   "file_extension": ".py",
   "mimetype": "text/x-python",
   "name": "python",
   "nbconvert_exporter": "python",
   "pygments_lexer": "ipython3",
   "version": "3.6.5"
  }
 },
 "nbformat": 4,
 "nbformat_minor": 2
}
